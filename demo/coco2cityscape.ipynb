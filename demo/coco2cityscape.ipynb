{
 "cells": [
  {
   "cell_type": "code",
   "execution_count": 1,
   "metadata": {},
   "outputs": [
    {
     "name": "stdout",
     "output_type": "stream",
     "text": [
      "一共有513张有标注的图片。\n",
      "一共移除了2140张图片。\n"
     ]
    }
   ],
   "source": [
    "import json\n",
    "import os\n",
    "\n",
    "# 去掉没有标注的图片并重新标注，且删除文件夹中的图片文件\n",
    "def clear_coco(coco_json, img_src, json_dst):\n",
    "    # coco_json = json.load(open(\"___.json\"))\n",
    "    anno_imgid = list(set([i['image_id'] for i in coco_json['annotations']]))\n",
    "    print(f\"一共有{len(anno_imgid)}张有标注的图片。\")\n",
    "    data_images = []\n",
    "    mark_id = 0\n",
    "    sum_remove = 0\n",
    "    for img in coco_json['images']:\n",
    "        if img['id'] in anno_imgid:\n",
    "            # 遍历annotation中所有id为img['id']的都更新为mark_id\n",
    "            for anno in coco_json['annotations']:\n",
    "                if anno['image_id'] == img['id']:\n",
    "                    anno['image_id'] = mark_id\n",
    "\n",
    "            img['id'] = mark_id\n",
    "            data_images.append(img)\n",
    "            mark_id += 1\n",
    "        else:\n",
    "            # 删除图片文件\n",
    "            img_file = os.path.join(img_src, img['file_name'])\n",
    "            if os.path.exists(img_file):\n",
    "                os.unlink(img_file)\n",
    "                sum_remove += 1\n",
    "            continue\n",
    "    print(f\"一共移除了{sum_remove}张图片。\")\n",
    "    coco_json['images'] = data_images\n",
    "    \n",
    "    # save\n",
    "    with open(json_dst, \"w\", encoding='utf-8') as sf:\n",
    "        sf.write(json.dumps(coco_json, indent=2))\n",
    "    return coco_json\n",
    "\n",
    "if __name__ == '__main__':\n",
    "    main_dir = './CatBack_0129-0206'\n",
    "    # CLEAR\n",
    "    with open(os.path.join(main_dir, 'annotations/instances_default.json')) as f:\n",
    "        data = json.load(f)\n",
    "    # print(data.keys())\n",
    "    data = clear_coco(data,img_src= os.path.join(main_dir, 'images'), json_dst=os.path.join(main_dir, './annotations/instances_default_cleared.json'))\n"
   ]
  },
  {
   "cell_type": "code",
   "execution_count": 2,
   "metadata": {},
   "outputs": [
    {
     "name": "stderr",
     "output_type": "stream",
     "text": [
      "100%|██████████| 513/513 [00:13<00:00, 37.31it/s]\n"
     ]
    }
   ],
   "source": [
    "import cv2\n",
    "import numpy as np\n",
    "import os\n",
    "import json\n",
    "from collections import defaultdict\n",
    "from tqdm import tqdm\n",
    " \n",
    "def cocojson2png(main_dir, json_path='instances_train2017.json', save_path = './gtFine'):\n",
    "    if not os.path.exists(save_path):\n",
    "        os.makedirs(save_path)\n",
    "    annotation_file = os.path.join(main_dir, 'annotations', json_path)\n",
    "    with open(annotation_file, 'r', encoding='utf-8') as annf:\n",
    "        annotations = json.load(annf)\n",
    "        images = [i['id'] for i in annotations['images']]\n",
    " \n",
    "    img_anno = defaultdict(list)\n",
    "    for anno in annotations['annotations']:\n",
    "        for img_id in images:\n",
    "            if anno['image_id'] == img_id:\n",
    "                img_anno[img_id].append(anno)\n",
    "    imgid_file = {}\n",
    "    for im in annotations['images']:\n",
    "        imgid_file[im['id']] = im['file_name']\n",
    "    \n",
    "    lst = open(os.path.join(main_dir, \"train.lst\"), \"w\")\n",
    "    for img_idx in tqdm(img_anno):\n",
    "        image = cv2.imread(os.path.join(main_dir, 'images/', imgid_file[img_idx]))\n",
    "        h, w, _ = image.shape\n",
    "        instance_png = np.zeros((h, w), dtype=np.uint8)\n",
    "        for idx, ann in enumerate(img_anno[img_idx]):\n",
    "            im_mask = np.zeros((h, w), dtype=np.uint8)\n",
    "            mask = []\n",
    "            for an in ann['segmentation']:\n",
    "                ct = np.expand_dims(np.array(an), 0).astype(int)\n",
    "                contour = np.stack((ct[:, ::2], ct[:, 1::2])).T\n",
    "                mask.append(contour)\n",
    "            imm = cv2.drawContours(im_mask, mask, -1, 1, -1)\n",
    "            imm = imm * (1000 * anno['category_id'] + idx)\n",
    "            instance_png = instance_png + imm\n",
    "            instance_png = np.clip(instance_png,0 ,255)\n",
    "        instance_png = np.expand_dims(instance_png,axis=2).repeat(3,axis=2).astype(np.uint8)\n",
    "    \n",
    "        # print(instance_png.shape)\n",
    "        instance_png = cv2.cvtColor(instance_png, cv2.COLOR_BGR2GRAY)\n",
    "        cv2.imwrite(os.path.join(save_path, imgid_file[img_idx].split('.')[0]+\".png\"), instance_png)\n",
    "\n",
    "        lst_s = 'CatBack_0122_0125/images/' + imgid_file[img_idx].split('.')[0]+\".jpg\" + ' ' + \\\n",
    "                'CatBack_0122_0125/gtFine/' + imgid_file[img_idx].split('.')[0]+\".png\"\n",
    "        lst.write(lst_s + '\\n')\n",
    " \n",
    "if __name__ == '__main__':\n",
    "    main_dir = \"./CatBack_0129-0206\"\n",
    "    cocojson2png(main_dir, json_path='instances_default_cleared.json', save_path = os.path.join(main_dir, 'gtFine'))"
   ]
  },
  {
   "cell_type": "code",
   "execution_count": null,
   "metadata": {},
   "outputs": [],
   "source": []
  },
  {
   "cell_type": "code",
   "execution_count": null,
   "metadata": {},
   "outputs": [],
   "source": [
    "import cv2\n",
    "import random\n",
    "import json, os\n",
    "from pycocotools.coco import COCO\n",
    "from skimage import io\n",
    "from matplotlib import pyplot as plt\n",
    "\n",
    " \n",
    "def visualization_seg(num_image, json_path, img_path, coco_classes, c = 'cat'):\n",
    "    # 需要画图的是第num副图片, 对应的json路径和图片路径,\n",
    "    # str = ' '为类别字符串，输入必须为字符串形式 'str'，若为空，则返回所有类别id\n",
    "    coco = COCO(json_path)\n",
    "    \n",
    "    catIds = coco.getCatIds(catNms=[c]) # 获取指定类别 id\n",
    "    \n",
    "    imgIds = coco.getImgIds(catIds=catIds) # 获取图片i\n",
    "    img = coco.loadImgs(imgIds[num_image-1])[0]  # 加载图片,loadImgs() 返回的是只有一个内嵌字典元素的list, 使用[0]来访问这个元素\n",
    "    image = io.imread(train_path + img['file_name'])\n",
    "   \n",
    "    annIds = coco.getAnnIds(imgIds=img['id'], catIds=catIds, iscrowd=None)\n",
    "    anns = coco.loadAnns(annIds)\n",
    "\n",
    "    for i in range(len(annIds)):\n",
    "            x, y, w, h = anns[i-1]['bbox']          # 读取边框\n",
    "            name = coco_classes[anns[i-1]['category_id']]\n",
    "            image = cv2.rectangle(image, (int(x), int(y)), (int(x + w), int(y + h)), (0, 255, 255), 1)      # 绘制矩形框\n",
    "            cv2.putText(image, name, (int(x+w/2), int(y+h/2)), 5, 3, (255, 0, 0), 3)  \n",
    "   \n",
    "    # 读取在线图片的方法\n",
    "    # I = io.imread(img['coco_url'])\n",
    "    \n",
    "    plt.imshow(image) \n",
    "    coco.showAnns(anns)\n",
    "    plt.show() \n",
    "\n",
    "\n",
    "\n",
    "train_json = './annotations/instances_default.json'\n",
    "train_path = './images/'\n",
    "\n",
    "visualization_seg(136, train_json, train_path, coco_classes = [\"background\", \"cat\", \"nocat\"])\n"
   ]
  },
  {
   "cell_type": "code",
   "execution_count": null,
   "metadata": {},
   "outputs": [],
   "source": []
  }
 ],
 "metadata": {
  "kernelspec": {
   "display_name": "base",
   "language": "python",
   "name": "python3"
  },
  "language_info": {
   "codemirror_mode": {
    "name": "ipython",
    "version": 3
   },
   "file_extension": ".py",
   "mimetype": "text/x-python",
   "name": "python",
   "nbconvert_exporter": "python",
   "pygments_lexer": "ipython3",
   "version": "3.9.13"
  },
  "orig_nbformat": 4,
  "vscode": {
   "interpreter": {
    "hash": "40d3a090f54c6569ab1632332b64b2c03c39dcf918b08424e98f38b5ae0af88f"
   }
  }
 },
 "nbformat": 4,
 "nbformat_minor": 2
}
