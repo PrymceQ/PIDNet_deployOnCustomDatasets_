{
 "cells": [
  {
   "cell_type": "code",
   "execution_count": 12,
   "metadata": {},
   "outputs": [
    {
     "name": "stderr",
     "output_type": "stream",
     "text": [
      "100%|██████████| 513/513 [00:45<00:00, 11.20it/s]\n"
     ]
    }
   ],
   "source": [
    "import cv2\n",
    "import os\n",
    "from PIL import Image\n",
    "import matplotlib.image as mpimg\n",
    "import numpy as np\n",
    "from tqdm import tqdm\n",
    "\n",
    "def draw_mask(image, mask, color, thresh):\n",
    "    image = np.require(image, dtype='f4', requirements=['O', 'W'])\n",
    "    image_c = image.copy()\n",
    "    \n",
    "    image[:,:,:][mask[:,:] > thresh] = color\n",
    "    out_image = 0.5 * image + 0.5 * image_c\n",
    "\n",
    "    return out_image\n",
    "\n",
    "\n",
    "# \n",
    "main_dir = './CatBack_0129-0206'\n",
    "gt_src = f'{main_dir}/gtFine/'   # png\n",
    "img_src = f'{main_dir}/images/'   # jpg\n",
    "pre_src = f'{main_dir}/PID_pre/'  # jpg\n",
    "dst = os.path.join(main_dir, dst)\n",
    "if not os.path.exists(dst):\n",
    "    os.mkdir(dst)\n",
    "\n",
    "img_name_l = [i.split('.')[0] for i in os.listdir(img_src)]\n",
    "\n",
    "for img in tqdm(img_name_l):\n",
    "    im = mpimg.imread(os.path.join(img_src, f'{img}.jpg'), cv2.IMREAD_COLOR)\n",
    "    mask_gt = cv2.imread(os.path.join(gt_src, f'{img}.png'), cv2.IMREAD_GRAYSCALE)\n",
    "    mask_pre = cv2.imread(os.path.join(pre_src, f'{img}.jpg'), cv2.IMREAD_GRAYSCALE)\n",
    "    im = im[:,:,::-1]\n",
    "\n",
    "    col_gt = np.array([0.1, 0.1, 0.8])*225  # red\n",
    "    col_pre= np.array([0.8, 0.1, 0.1])*225  # blue\n",
    "\n",
    "    im = draw_mask(im, mask=mask_gt, color=col_gt, thresh=100)\n",
    "    im = draw_mask(im, mask=mask_pre, color=col_pre, thresh=100)\n",
    "\n",
    "    cv2.imwrite(os.path.join(dst, f'{img}.jpg'), im)\n",
    "\n"
   ]
  },
  {
   "cell_type": "code",
   "execution_count": 45,
   "metadata": {},
   "outputs": [
    {
     "name": "stdout",
     "output_type": "stream",
     "text": [
      "{1, 2, 3, 4, 5, 6, 7, 8, 9, 10, 11, 12, 13, 14, 15, 16, 17, 18, 19, 20, 21, 22, 23, 24, 25, 26, 27, 28, 29, 30, 32, 33, 34, 35, 36, 37, 39, 217, 218, 219, 220, 221, 223, 224, 225, 226, 227, 228, 229, 230, 231, 232, 233, 234, 235, 236, 237, 238, 239, 240, 241, 242, 243, 244, 245, 246, 247, 248, 249, 250, 251, 252, 253, 254, 255}\n"
     ]
    }
   ],
   "source": [
    "l = []\n",
    "for i in range(len(mask_pre)):\n",
    "    for j in range(len(mask_pre[0])):\n",
    "        if mask_pre[i,j] >0:\n",
    "            l.append(mask_pre[i,j])\n",
    "print(set(l))"
   ]
  },
  {
   "cell_type": "code",
   "execution_count": null,
   "metadata": {},
   "outputs": [],
   "source": [
    "\n",
    "\n",
    "def union_image_mask(image_path, mask_path, num):\n",
    "    # 读取原图\n",
    "    image = cv2.imread(image_path)\n",
    "\n",
    "    # 读取分割mask，这里本数据集中是白色背景黑色mask\n",
    "    mask_2d = cv2.imread(mask_path, cv2.IMREAD_GRAYSCALE)\n",
    "    # 裁剪到和原图一样大小\n",
    "    mask_2d = mask_2d[0:400, 0:500]\n",
    "    h, w = mask_2d.shape\n",
    "    cv2.imshow(\"2d\", mask_2d)\n",
    "\n",
    "    # 在OpenCV中，查找轮廓是从黑色背景中查找白色对象，所以要转成黑色背景白色mask\n",
    "    mask_3d = np.ones((h, w), dtype='uint8')*255\n",
    "    # mask_3d_color = np.zeros((h,w,3),dtype='uint8')\n",
    "    mask_3d[mask_2d[:, :] == 255] = 0\n",
    "    cv2.imshow(\"3d\", mask_3d)\n",
    "    ret, thresh = cv2.threshold(mask_3d, 127, 255, 0)\n",
    "    im2, contours, hierarchy = cv2.findContours(thresh, cv2.RETR_TREE, cv2.CHAIN_APPROX_SIMPLE)\n",
    "    cnt = contours[0]\n",
    "    cv2.drawContours(image, [cnt], 0, (0, 255, 0), 1)\n",
    "    # 打开画了轮廓之后的图像\n",
    "    cv2.imshow('mask', image)\n",
    "    # 保存图像\n",
    "    # cv2.imwrite(\"./image/result/\" + str(num) + \".bmp\", image)\n"
   ]
  }
 ],
 "metadata": {
  "kernelspec": {
   "display_name": "base",
   "language": "python",
   "name": "python3"
  },
  "language_info": {
   "codemirror_mode": {
    "name": "ipython",
    "version": 3
   },
   "file_extension": ".py",
   "mimetype": "text/x-python",
   "name": "python",
   "nbconvert_exporter": "python",
   "pygments_lexer": "ipython3",
   "version": "3.9.13"
  },
  "orig_nbformat": 4,
  "vscode": {
   "interpreter": {
    "hash": "40d3a090f54c6569ab1632332b64b2c03c39dcf918b08424e98f38b5ae0af88f"
   }
  }
 },
 "nbformat": 4,
 "nbformat_minor": 2
}
